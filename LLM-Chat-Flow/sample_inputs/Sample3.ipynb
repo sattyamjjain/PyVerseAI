{
  "cells": [
    {
      "cell_type": "markdown",
      "metadata": {
        "tags": [
          "system",
          "0"
        ],
        "id": "UfZRKP5q9n4M"
      },
      "source": [
        "**[system]**\n",
        "\n",
        "You are a capable finance assistant employed by a prestigious brokerage firm. Your primary responsibility is to leverage your expertise in investment analysis and portfolio management to provide clients with insightful recommendations and empower them to make well-informed investment decisions aligned with their financial goals.\n",
        "\n",
        "To accomplish this, you have direct access to data on each client's current investment portfolio holdings. Additionally, you can query real-time news that may impact investment valuations and you can consult stock prices. Lastly, you can also consult the symbol or ticker of a company by using the name of the company but only use this feature when you are unsure of the symbol.\n",
        "\n",
        "When a client approaches you with an investment-related query, your first step is to pull up their portfolio data and understand their current holdings, asset allocation, risk profile, and investment objectives. Analyze the context and intent behind their query to determine if they are seeking broad portfolio advice, opinions on specific investments, or other specialized counsel.\n",
        "\n",
        "Your role is to be a world-class strategic advisor that clients can rely on to preserve and grow their wealth over the long term. Today's date is 2024-04-26."
      ]
    },
    {
      "cell_type": "markdown",
      "metadata": {
        "tags": [
          "tools",
          "0"
        ],
        "id": "pbRwnIIj9n4O"
      },
      "source": [
        "**[tools]**\n",
        "\n",
        "```json\n",
        "[\n",
        "    {\n",
        "        \"type\": \"function\",\n",
        "        \"function\": {\n",
        "            \"name\": \"symbolLatestNews\",\n",
        "            \"description\":\"Retrieve latest news about a symbol, return sonly one news.\",\n",
        "            \"parameters\": {\n",
        "                \"type\": \"object\",\n",
        "                \"properties\": {\n",
        "                    \"symbol\": {\n",
        "                        \"type\": \"string\",\n",
        "                        \"description\": \"The symbol for which to retrieve one latest news.\"\n",
        "                    }\n",
        "                },\n",
        "                \"required\": [\n",
        "                    \"symbol\"\n",
        "                ]\n",
        "            }\n",
        "        }\n",
        "    },\n",
        "    {\n",
        "        \"type\": \"function\",\n",
        "        \"function\": {\n",
        "            \"name\": \"BuyOrSell\",\n",
        "            \"description\":\"Buy or sell.\",\n",
        "            \"parameters\": {\n",
        "                \"type\": \"object\",\n",
        "                \"properties\": {\n",
        "                    \"symbol\": {\n",
        "                        \"type\": \"string\",\n",
        "                        \"description\": \"The symbol to transact on.\"\n",
        "                    },\n",
        "                    \"action\": {\n",
        "                        \"type\": \"string\",\n",
        "                        \"description\": \"buy or sell action.\",\n",
        "                        \"enum\": [\"buy\", \"sell\"]\n",
        "                    },\n",
        "                    \"quantity\": {\n",
        "                        \"type\": \"number\",\n",
        "                        \"description\": \"The quantity to buy or sell.\"\n",
        "                    }\n",
        "                },\n",
        "                \"required\": [\n",
        "                    \"action\",\n",
        "                    \"symbol\"\n",
        "                ]\n",
        "            }\n",
        "        }\n",
        "    },\n",
        "    {\n",
        "        \"type\": \"function\",\n",
        "        \"function\": {\n",
        "            \"name\": \"getStockPrice\",\n",
        "            \"description\":\"Retrieve the latest price of a stock.\",\n",
        "            \"parameters\": {\n",
        "                \"type\": \"object\",\n",
        "                \"properties\": {\n",
        "                    \"symbol\": {\n",
        "                        \"type\": \"string\",\n",
        "                        \"description\": \"The symbol for which to retrieve the latest price.\"\n",
        "                    }\n",
        "                },\n",
        "                \"required\": [\n",
        "                    \"symbol\"\n",
        "                ]\n",
        "            }\n",
        "        }\n",
        "    },\n",
        "    {\n",
        "        \"type\": \"function\",\n",
        "        \"function\": {\n",
        "            \"name\": \"getPortfolio\",\n",
        "            \"description\":\"Retrieve the portfolio of the user.\",\n",
        "            \"parameters\": {\n",
        "                \"type\": \"object\",\n",
        "                \"properties\": {},\n",
        "                \"required\": []\n",
        "            }\n",
        "        }\n",
        "    },\n",
        "    {\n",
        "        \"type\": \"function\",\n",
        "        \"function\": {\n",
        "            \"name\": \"getSymbol\",\n",
        "            \"description\":\"Retrieve the symbol or ticker of a company.\",\n",
        "            \"parameters\": {\n",
        "                \"type\": \"object\",\n",
        "                \"properties\": {\n",
        "                    \"company\": {\n",
        "                        \"type\": \"string\",\n",
        "                        \"description\": \"The name of the company for which to retrieve the symbol.\"\n",
        "                    }\n",
        "                },\n",
        "                \"required\": [\n",
        "                    \"company\"\n",
        "                ]\n",
        "            }\n",
        "        }\n",
        "    }\n",
        "]\n",
        "```"
      ]
    },
    {
      "cell_type": "markdown",
      "metadata": {
        "tags": [
          "user",
          "1"
        ],
        "id": "zl_psiGx9n4Q"
      },
      "source": [
        "**[user]**\n",
        "\n",
        "Can you tell me how much I have in unrealized gains in my portfolio? Tell me the total amount and the amount for each stock."
      ]
    },
    {
      "cell_type": "markdown",
      "metadata": {
        "tags": [
          "tool_use",
          "2"
        ],
        "id": "RDMXKGzb9n4R"
      },
      "source": [
        "**[tool_use]**\n",
        "\n",
        "```json\n",
        "{\n",
        "  \"tool_use\": [\n",
        "    {\n",
        "        \"function_name\": \"getPortfolio\",\n",
        "        \"parameters\": {}\n",
        "    }\n",
        "  ]\n",
        "}\n",
        "```"
      ]
    },
    {
      "cell_type": "markdown",
      "metadata": {
        "tags": [
          "tool_output",
          "3"
        ],
        "id": "xrwirk0y9n4S"
      },
      "source": [
        "**[tool_output]**\n",
        "\n",
        "```json\n",
        "{\n",
        "    \"portfolio\": {\n",
        "        \"summary\": {\n",
        "            \"totalValue\": 30532.9,\n",
        "            \"unrealizedGains\": 1474.5\n",
        "        },\n",
        "        \"stocks\": [\n",
        "            {\n",
        "                \"symbol\": \"AAPL\",\n",
        "                \"quantity\": 28,\n",
        "                \"averagePrice\": 190.3,\n",
        "                \"currentPrice\": 169.3,\n",
        "                \"unrealizedGains\": -588.0\n",
        "            },\n",
        "            {\n",
        "                \"symbol\": \"GOOGL\",\n",
        "                \"quantity\": 150,\n",
        "                \"averagePrice\": 158.2,\n",
        "                \"currentPrice\": 171.95,\n",
        "                \"unrealizedGains\": 2062.5\n",
        "            }\n",
        "        ]\n",
        "    }\n",
        "}\n",
        "```"
      ]
    },
    {
      "cell_type": "markdown",
      "metadata": {
        "tags": [
          "assistant",
          "4"
        ],
        "id": "N_0cbxia9n4b"
      },
      "source": [
        "**[assistant]**\n",
        "\n",
        "You have a total of 1474.5 USD in unrealized gains in your portfolio. Here is the breakdown for each stock:\n",
        "- AAPL: -588.0 USD\n",
        "- GOOGL: 2062.5 USD"
      ]
    },
    {
      "cell_type": "markdown",
      "metadata": {
        "tags": [
          "user",
          "5"
        ],
        "id": "rWHyAjIp9n4c"
      },
      "source": [
        "**[user]**\n",
        "\n",
        "What? Why is Apple showing a negative unrealized gain? Something happened?"
      ]
    },
    {
      "cell_type": "markdown",
      "metadata": {
        "tags": [
          "tool_use",
          "6"
        ],
        "id": "FC31JIXr9n4c"
      },
      "source": [
        "**[tool_use]**\n",
        "\n",
        "```json\n",
        "{\n",
        "  \"tool_use\": [\n",
        "    {\n",
        "        \"function_name\": \"symbolLatestNews\",\n",
        "        \"parameters\": {\n",
        "            \"symbol\": \"AAPL\"\n",
        "        }\n",
        "    }\n",
        "  ]\n",
        "}\n",
        "```"
      ]
    },
    {
      "cell_type": "markdown",
      "metadata": {
        "tags": [
          "tool_output",
          "7"
        ],
        "id": "UYZon_Xs9n4d"
      },
      "source": [
        "**[tool_output]**\n",
        "\n",
        "```json\n",
        "{\n",
        "    \"symbol\": \"AAPL\",\n",
        "    \"latestNews\": [\n",
        "        {\n",
        "            \"title\": \"Apple’s iPad Hit by EU’s Digital Dominance Crackdown\",\n",
        "            \"snippet\": \"(Bloomberg) -- Apple Inc.’s iPad has been added to a list of Big Tech products and services hit by strict new European Union rules aimed at stopping potential competition abuses before they take hold.\",\n",
        "            \"url\": \"https://finance.yahoo.com/news/apple-ipad-hit-eu-digital-094500468.html\"\n",
        "        },\n",
        "        {\n",
        "            \"title\": \"Apple’s Vision Pro Stumbles: Time to Dump These 3 VR Stocks?\",\n",
        "            \"snippet\": \"Apple (NASDAQ:AAPL) may be losing momentum among VR stocks, even as tech advancements continue elevating the burgeoning sector into public consciousness.\",\n",
        "            \"url\": \"https://markets.businessinsider.com/news/stocks/apples-vision-pro-stumbles-time-to-dump-these-3-vr-stocks-1033267060\"\n",
        "        }\n",
        "    ]\n",
        "}\n",
        "```"
      ]
    },
    {
      "cell_type": "markdown",
      "metadata": {
        "tags": [
          "assistant",
          "8"
        ],
        "id": "_NQq_3wR9n4d"
      },
      "source": [
        "**[assistant]**\n",
        "\n",
        "The negative unrealized gain for Apple might be due to recent news. Apple's iPad has been added to a list of Big Tech products and services hit by strict new European Union rules aimed at stopping potential competition abuses before they take hold. This news might have impacted the stock price negatively. You can read more about it [here](https://finance.yahoo.com/news/apple-ipad-hit-eu-digital-094500468.html).\n",
        "\n",
        "Additionally, there is another news article suggesting that Apple may be losing momentum among VR stocks. You can read more about it [here](https://markets.businessinsider.com/news/stocks/apples-vision-pro-stumbles-time-to-dump-these-3-vr-stocks-1033267060)."
      ]
    },
    {
      "cell_type": "markdown",
      "metadata": {
        "tags": [
          "user",
          "9"
        ],
        "id": "KHu4tMdr9n4e"
      },
      "source": [
        "**[user]**\n",
        "\n",
        "I see. That explains it. I think it's going to be a good time to buy more Apple stocks. Can you sell half of my Google stocks and buy 10 more Apple shares for me?"
      ]
    },
    {
      "cell_type": "markdown",
      "metadata": {
        "tags": [
          "tool_use",
          "10"
        ],
        "id": "HK0fE2Yp9n4e"
      },
      "source": [
        "**[tool_use]**\n",
        "\n",
        "```json\n",
        "{\n",
        "  \"tool_use\": [\n",
        "    {\n",
        "        \"function_name\": \"BuyOrSell\",\n",
        "        \"parameters\": {\n",
        "            \"symbol\": \"GOOGL\",\n",
        "            \"action\": \"sell\",\n",
        "            \"quantity\": 75\n",
        "        }\n",
        "    },\n",
        "    {\n",
        "        \"function_name\": \"BuyOrSell\",\n",
        "        \"parameters\": {\n",
        "            \"symbol\": \"AAPL\",\n",
        "            \"action\": \"buy\",\n",
        "            \"quantity\": 10\n",
        "        }\n",
        "    }\n",
        "  ]\n",
        "}\n",
        "```"
      ]
    },
    {
      "cell_type": "markdown",
      "metadata": {
        "tags": [
          "tool_output",
          "11"
        ],
        "id": "jZ554Otg9n4f"
      },
      "source": [
        "**[tool_output]**\n",
        "\n",
        "```json\n",
        "[\n",
        "    {\n",
        "        \"symbol\": \"GOOGL\",\n",
        "        \"action\": \"sell\",\n",
        "        \"quantity\": 75,\n",
        "        \"price\": 171.95,\n",
        "        \"total\": 12896.25,\n",
        "        \"success\": true\n",
        "    },\n",
        "    {\n",
        "        \"symbol\": \"AAPL\",\n",
        "        \"action\": \"buy\",\n",
        "        \"quantity\": 10,\n",
        "        \"price\": 169.3,\n",
        "        \"total\": 1693.0,\n",
        "        \"success\": true\n",
        "    }\n",
        "]\n",
        "```"
      ]
    },
    {
      "cell_type": "markdown",
      "metadata": {
        "tags": [
          "assistant",
          "12"
        ],
        "id": "TrpgFi-R9n4f"
      },
      "source": [
        "**[assistant]**\n",
        "\n",
        "I have successfully sold 75 Google stocks and bought 10 Apple shares for you. Here are the details of the transactions:\n",
        "\n",
        "- Sold 75 shares of GOOGL at 171.95 USD per share for a total of 12896.25 USD.\n",
        "- Bought 10 shares of AAPL at 169.3 USD per share for a total of 1693.0 USD.\n",
        "\n",
        "Your portfolio has been updated accordingly. Please let me know if I can assist you with anything else."
      ]
    }
  ],
  "metadata": {
    "language_info": {
      "name": "python"
    },
    "colab": {
      "provenance": []
    }
  },
  "nbformat": 4,
  "nbformat_minor": 0
}