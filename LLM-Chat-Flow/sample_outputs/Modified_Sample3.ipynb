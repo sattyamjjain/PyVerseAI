{
 "cells": [
  {
   "cell_type": "markdown",
   "metadata": {
    "id": "UfZRKP5q9n4M",
    "tags": [
     "system",
     "0"
    ]
   },
   "source": [
    "**[system]**\n",
    "\n",
    "As a skilled finance assistant working for a reputable brokerage firm, your main duty is to utilize your expertise in investment analysis and portfolio management to provide clients with valuable recommendations and assist them in making informed investment decisions in line with their financial objectives.\n",
    "\n",
    "To achieve this, you have direct access to information on each client's current investment holdings. Additionally, you can retrieve real-time news that may impact investment values and check stock prices. You also have the option to look up a company's symbol or ticker by using the company name, but only when necessary.\n",
    "\n",
    "When a client comes to you with an investment-related question, your first step is to review their portfolio data and understand their current holdings, asset allocation, risk tolerance, and goals. Assess the nature and purpose of their question to determine whether they are seeking general portfolio advice, opinions on specific investments, or other specialized guidance.\n",
    "\n",
    "Your role is to serve as a top-tier strategic advisor that clients can depend on to protect and enhance their wealth over the long term. Today's date is 2024-04-26."
   ]
  },
  {
   "cell_type": "markdown",
   "metadata": {
    "id": "pbRwnIIj9n4O",
    "tags": [
     "tools",
     "0"
    ]
   },
   "source": [
    "**[tools]**\n",
    "\n",
    "```json\n",
    "[\n",
    "    {\n",
    "        \"type\": \"function\",\n",
    "        \"function\": {\n",
    "            \"name\": \"getLatestSymbolNews\",\n",
    "            \"description\":\"Fetch the most recent news related to a symbol, returns only one news article.\",\n",
    "            \"parameters\": {\n",
    "                \"type\": \"object\",\n",
    "                \"properties\": {\n",
    "                    \"symbol\": {\n",
    "                        \"type\": \"string\",\n",
    "                        \"description\": \"The symbol for which to fetch the latest news.\"\n",
    "                    }\n",
    "                },\n",
    "                \"required\": [\n",
    "                    \"symbol\"\n",
    "                ]\n",
    "            }\n",
    "        }\n",
    "    },\n",
    "    {\n",
    "        \"type\": \"function\",\n",
    "        \"function\": {\n",
    "            \"name\": \"TradeSymbol\",\n",
    "            \"description\":\"Execute a buy or sell transaction for a specific symbol.\",\n",
    "            \"parameters\": {\n",
    "                \"type\": \"object\",\n",
    "                \"properties\": {\n",
    "                    \"symbol\": {\n",
    "                        \"type\": \"string\",\n",
    "                        \"description\": \"The symbol to trade.\"\n",
    "                    },\n",
    "                    \"action\": {\n",
    "                        \"type\": \"string\",\n",
    "                        \"description\": \"Action to take - buy or sell.\",\n",
    "                        \"enum\": [\"buy\", \"sell\"]\n",
    "                    },\n",
    "                    \"quantity\": {\n",
    "                        \"type\": \"number\",\n",
    "                        \"description\": \"The quantity to buy or sell.\"\n",
    "                    }\n",
    "                },\n",
    "                \"required\": [\n",
    "                    \"action\",\n",
    "                    \"symbol\"\n",
    "                ]\n",
    "            }\n",
    "        }\n",
    "    },\n",
    "    {\n",
    "        \"type\": \"function\",\n",
    "        \"function\": {\n",
    "            \"name\": \"retrieveStockPrice\",\n",
    "            \"description\":\"Get the most recent price of a stock symbol.\",\n",
    "            \"parameters\": {\n",
    "                \"type\": \"object\",\n",
    "                \"properties\": {\n",
    "                    \"symbol\": {\n",
    "                        \"type\": \"string\",\n",
    "                        \"description\": \"The symbol for which to fetch the latest price.\"\n",
    "                    }\n",
    "                },\n",
    "                \"required\": [\n",
    "                    \"symbol\"\n",
    "                ]\n",
    "            }\n",
    "        }\n",
    "    },\n",
    "    {\n",
    "        \"type\": \"function\",\n",
    "        \"function\": {\n",
    "            \"name\": \"getUserPortfolio\",\n",
    "            \"description\":\"Fetch the user's current portfolio.\",\n",
    "            \"parameters\": {\n",
    "                \"type\": \"object\",\n",
    "                \"properties\": {},\n",
    "                \"required\": []\n",
    "            }\n",
    "        }\n",
    "    },\n",
    "    {\n",
    "        \"type\": \"function\",\n",
    "        \"function\": {\n",
    "            \"name\": \"getCompanySymbol\",\n",
    "            \"description\":\"Retrieve the stock symbol or ticker for a specified company.\",\n",
    "            \"parameters\": {\n",
    "                \"type\": \"object\",\n",
    "                \"properties\": {\n",
    "                    \"company\": {\n",
    "                        \"type\": \"string\",\n",
    "                        \"description\": \"The name of the company to get the symbol for.\"\n",
    "                    }\n",
    "                },\n",
    "                \"required\": [\n",
    "                    \"company\"\n",
    "                ]\n",
    "            }\n",
    "        }\n",
    "    }\n",
    "]\n",
    "```"
   ]
  },
  {
   "cell_type": "markdown",
   "metadata": {
    "id": "zl_psiGx9n4Q",
    "tags": [
     "user",
     "1"
    ]
   },
   "source": [
    "**[user]**\n",
    "\n",
    "I'd like to know the total amount of unrealized gains in my portfolio as well as the amount for each individual stock. Can you provide me with that information?"
   ]
  },
  {
   "cell_type": "markdown",
   "metadata": {
    "id": "RDMXKGzb9n4R",
    "tags": [
     "tool_use",
     "2"
    ]
   },
   "source": [
    "```json\n",
    "{\n",
    "  \"tool_use\": [\n",
    "    {\n",
    "        \"function_name\": \"retrievePortfolio\",\n",
    "        \"parameters\": {}\n",
    "    }\n",
    "  ]\n",
    "}\n",
    "```"
   ]
  },
  {
   "cell_type": "markdown",
   "metadata": {
    "id": "xrwirk0y9n4S",
    "tags": [
     "tool_output",
     "3"
    ]
   },
   "source": [
    "**[tool_output]**\n",
    "\n",
    "```json\n",
    "{\n",
    "    \"portfolio\": {\n",
    "        \"summary\": {\n",
    "            \"totalValue\": 30532.9,\n",
    "            \"unrealizedGains\": 1474.5\n",
    "        },\n",
    "        \"stocks\": [\n",
    "            {\n",
    "                \"symbol\": \"AAPL\",\n",
    "                \"quantity\": 28,\n",
    "                \"averagePrice\": 190.3,\n",
    "                \"currentPrice\": 169.3,\n",
    "                \"unrealizedGains\": -588.0\n",
    "            },\n",
    "            {\n",
    "                \"symbol\": \"GOOGL\",\n",
    "                \"quantity\": 150,\n",
    "                \"averagePrice\": 158.2,\n",
    "                \"currentPrice\": 171.95,\n",
    "                \"unrealizedGains\": 2062.5\n",
    "            }\n",
    "        ]\n",
    "    }\n",
    "}\n",
    "```"
   ]
  },
  {
   "cell_type": "markdown",
   "metadata": {
    "id": "N_0cbxia9n4b",
    "tags": [
     "assistant",
     "4"
    ]
   },
   "source": [
    "**[assistant]**\n",
    "\n",
    "Your portfolio is currently showing a total unrealized gain of 1474.5 USD. Here's the breakdown for each stock:\n",
    "- AAPL: A loss of 588.0 USD\n",
    "- GOOGL: A gain of 2062.5 USD"
   ]
  },
  {
   "cell_type": "markdown",
   "metadata": {
    "id": "rWHyAjIp9n4c",
    "tags": [
     "user",
     "5"
    ]
   },
   "source": [
    "**[user]**\n",
    "\n",
    "Wait, why does Apple have a negative unrealized gain showing? Did something happen to cause this?"
   ]
  },
  {
   "cell_type": "markdown",
   "metadata": {
    "id": "FC31JIXr9n4c",
    "tags": [
     "tool_use",
     "6"
    ]
   },
   "source": [
    "**[symbolLatestNews]**\n",
    "\n",
    "```json\n",
    "{\n",
    "  \"symbolLatestNews\": [\n",
    "    {\n",
    "        \"stock_symbol\": \"AAPL\"\n",
    "    }\n",
    "  ]\n",
    "}\n",
    "```"
   ]
  },
  {
   "cell_type": "markdown",
   "metadata": {
    "id": "UYZon_Xs9n4d",
    "tags": [
     "tool_output",
     "7"
    ]
   },
   "source": [
    "**[tool_output]**\n",
    "\n",
    "```json\n",
    "{\n",
    "    \"symbol\": \"AAPL\",\n",
    "    \"latestNews\": [\n",
    "        {\n",
    "            \"title\": \"EU Imposes Tough Regulations on Apple’s iPad in Digital Market\",\n",
    "            \"snippet\": \"Apple Inc.’s iPad is now subject to strict regulations by the European Union to prevent unfair competition practices from gaining ground.\",\n",
    "            \"url\": \"https://finance.yahoo.com/news/apple-ipad-hit-eu-digital-094500468.html\"\n",
    "        },\n",
    "        {\n",
    "            \"title\": \"Apple’s VR Ambitions Face Challenges: Should Investors Consider Other Options?\",\n",
    "            \"snippet\": \"Apple's position in the VR market may be weakening, despite ongoing technological advancements in the industry.\",\n",
    "            \"url\": \"https://markets.businessinsider.com/news/stocks/apples-vision-pro-stumbles-time-to-dump-these-3-vr-stocks-1033267060\"\n",
    "        }\n",
    "    ]\n",
    "}\n",
    "```"
   ]
  },
  {
   "cell_type": "markdown",
   "metadata": {
    "id": "_NQq_3wR9n4d",
    "tags": [
     "assistant",
     "8"
    ]
   },
   "source": [
    "**[assistant]**\n",
    "\n",
    "The drop in Apple's unrealized gain could be attributed to recent updates. The iPad from Apple has now been included in a list of Big Tech products facing strict new regulations from the European Union designed to prevent potential competition abuses. This development likely had a negative impact on the company's stock price. For more information, you can check out the details [here](https://finance.yahoo.com/news/apple-ipad-hit-eu-digital-094500468.html).\n",
    "\n",
    "Furthermore, there's another article highlighting that Apple might be losing its edge in the VR market. You can find more details about this issue [here](https://markets.businessinsider.com/news/stocks/apples-vision-pro-stumbles-time-to-dump-these-3-vr-stocks-1033267060)."
   ]
  },
  {
   "cell_type": "markdown",
   "metadata": {
    "id": "KHu4tMdr9n4e",
    "tags": [
     "user",
     "9"
    ]
   },
   "source": [
    "**[user]**\n",
    "\n",
    "Got it. Now I understand. I believe it's a great opportunity to invest more in Apple. Could you please sell half of my Google stocks and use the proceeds to purchase 10 additional shares of Apple for me?"
   ]
  },
  {
   "cell_type": "markdown",
   "metadata": {
    "id": "HK0fE2Yp9n4e",
    "tags": [
     "tool_use",
     "10"
    ]
   },
   "source": [
    "**[tool_use]**\n",
    "\n",
    "```json\n",
    "{\n",
    "  \"tool_use\": [\n",
    "    {\n",
    "        \"function_name\": \"TradeStock\",\n",
    "        \"parameters\": {\n",
    "            \"symbol\": \"GOOGL\",\n",
    "            \"action\": \"sell\",\n",
    "            \"quantity\": 75\n",
    "        }\n",
    "    },\n",
    "    {\n",
    "        \"function_name\": \"TradeStock\",\n",
    "        \"parameters\": {\n",
    "            \"symbol\": \"AAPL\",\n",
    "            \"action\": \"buy\",\n",
    "            \"quantity\": 10\n",
    "        }\n",
    "    }\n",
    "  ]\n",
    "}\n",
    "```"
   ]
  },
  {
   "cell_type": "markdown",
   "metadata": {
    "id": "jZ554Otg9n4f",
    "tags": [
     "tool_output",
     "11"
    ]
   },
   "source": [
    "**[tool_output]**\n",
    "\n",
    "```json\n",
    "[\n",
    "    {\n",
    "        \"symbol\": \"GOOGL\",\n",
    "        \"action\": \"sold\",\n",
    "        \"quantity\": 75,\n",
    "        \"price\": 171.95,\n",
    "        \"total\": 12896.25,\n",
    "        \"success\": true\n",
    "    },\n",
    "    {\n",
    "        \"symbol\": \"AAPL\",\n",
    "        \"action\": \"purchased\",\n",
    "        \"quantity\": 10,\n",
    "        \"price\": 169.3,\n",
    "        \"total\": 1693.0,\n",
    "        \"success\": true\n",
    "    }\n",
    "]\n",
    "```"
   ]
  },
  {
   "cell_type": "markdown",
   "metadata": {
    "id": "TrpgFi-R9n4f",
    "tags": [
     "assistant",
     "12"
    ]
   },
   "source": [
    "**[assistant]**\n",
    "\n",
    "I have completed the sale of 75 Google stocks and the purchase of 10 Apple shares on your behalf. Here are the specifics of the transactions:\n",
    "\n",
    "- The 75 GOOGL shares were sold at a price of 171.95 USD each, resulting in a total of 12896.25 USD.\n",
    "- The 10 AAPL shares were bought at a price of 169.3 USD each, totaling 1693.0 USD.\n",
    "\n",
    "Your investment portfolio has been adjusted accordingly. If there is anything else you need assistance with, please don't hesitate to let me know."
   ]
  }
 ],
 "metadata": {
  "colab": {
   "provenance": []
  },
  "language_info": {
   "name": "python"
  }
 },
 "nbformat": 4,
 "nbformat_minor": 0
}
