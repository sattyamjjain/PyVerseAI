{
 "cells": [
  {
   "cell_type": "markdown",
   "id": "6cfdc713",
   "metadata": {
    "id": "6cfdc713"
   },
   "source": [
    "## Chat\n",
    "\n",
    "Can you help me with this code/markdown, please?"
   ]
  },
  {
   "cell_type": "markdown",
   "id": "f9d12db7",
   "metadata": {
    "id": "f9d12db7"
   },
   "source": [
    "**User**\n",
    "\n",
    "I'm looking to create a Python script that can retrieve historical market data for the top 5 cryptocurrencies over the past 24 months and create visualizations showing their price trends."
   ]
  },
  {
   "cell_type": "markdown",
   "id": "z9JhL1a1sNI2",
   "metadata": {
    "id": "z9JhL1a1sNI2"
   },
   "source": [
    "**Assistant**\n",
    "\n",
    "To acquire cryptocurrency market data and present it visually, we can utilize `ccxt` for data fetching and `matplotlib` for visualization. Here's a step-by-step guide on how to proceed:\n",
    "\n",
    "1. **Installing Necessary Packages**: Ensure that `ccxt` and `matplotlib` are installed in your environment. You can easily install them using pip:\n",
    "\n",
    "   ```shell\n",
    "   pip install ccxt matplotlib\n",
    "   ```\n",
    "\n",
    "2. **Retrieving Cryptocurrency Data**: Utilize the `ccxt` library to establish a connection with a cryptocurrency exchange, such as Binance, and retrieve historical data for the top 5 cryptocurrencies based on market capitalization. The top 5 cryptocurrencies may include well-known ones like Bitcoin (BTC), Ethereum (ETH), and others.\n",
    "\n",
    "3. **Data Preparation**: Prepare the retrieved data for visualization by selecting an appropriate time period (e.g., the last 24 months) and specific data points (e.g., closing prices).\n",
    "\n",
    "4. **Visualizing Data with Matplotlib**: Utilize `matplotlib` to create visual representations of the data, such as plotting the price trends of these cryptocurrencies over time.\n",
    "\n",
    "Here is a simple script outlining a possible approach to accomplish this task. Keep in mind that the top 5 currencies need to be manually specified or retrieved dynamically due to the fluctuating nature of cryptocurrency rankings.\n",
    "\n",
    "Let's start by creating a function that can provide a DataFrame containing historical data for a chosen cryptocurrency from Binance."
   ]
  },
  {
   "cell_type": "code",
   "execution_count": null,
   "id": "hsRelz_mesUp",
   "metadata": {
    "id": "hsRelz_mesUp"
   },
   "outputs": [],
   "source": [
    "Install ccxt and matplotlib using pip."
   ]
  },
  {
   "cell_type": "code",
   "execution_count": null,
   "id": "OWK3UD5izKn5",
   "metadata": {
    "id": "OWK3UD5izKn5"
   },
   "outputs": [],
   "source": [
    "# Virtual Assistant\n",
    "\n",
    "import ccxt\n",
    "import pandas as pd\n",
    "import matplotlib.pyplot as plt\n",
    "from datetime import datetime, timedelta\n",
    "\n",
    "# Set up exchange connection\n",
    "exchange = ccxt.binance()\n",
    "\n",
    "\n",
    "def get_crypto_data(symbol, timeframe='1d', start_date=None, limit=100):\n",
    "    \"\"\"\n",
    "    Retrieves historical OHLCV data for a specific cryptocurrency symbol from Binance.\n",
    "\n",
    "    Args:\n",
    "    - symbol (str): The cryptocurrency symbol to retrieve data for (e.g., 'BTC/USDT').\n",
    "    - timeframe (str, optional): The timeframe for the data ('1m', '1h', '1d', etc.). Default is '1d'.\n",
    "    - start_date (str, optional): The starting date for the data in ISO8601 format.\n",
    "    If not provided, it defaults to 'limit' days ago.\n",
    "    - limit (int, optional): The maximum number of data points to retrieve. Default is 100.\n",
    "\n",
    "    Returns:\n",
    "    - pandas.DataFrame: A DataFrame containing the OHLCV data with timestamps\n",
    "    converted to datetime objects.\n",
    "    \"\"\"\n",
    "    # Calculate 'start_date' in milliseconds\n",
    "    if start_date:\n",
    "        start_date = exchange.parse8601(start_date)\n",
    "    else:\n",
    "        # Default to 'limit' days ago\n",
    "        start_date = exchange.milliseconds() - 86400000 * limit\n",
    "\n",
    "    # Retrieve the OHLCV data\n",
    "    ohlcv = exchange.fetch_ohlcv(symbol, timeframe, start_date, limit)\n",
    "\n",
    "    # Convert to DataFrame\n",
    "    df = pd.DataFrame(\n",
    "        ohlcv, columns=['timestamp', 'open', 'high', 'low', 'close', 'volume'])\n",
    "    df['timestamp'] = pd.to_datetime(df['timestamp'], unit='ms')\n",
    "\n",
    "    return df"
   ]
  },
  {
   "cell_type": "markdown",
   "id": "2oiR4-P2zZwc",
   "metadata": {
    "id": "2oiR4-P2zZwc"
   },
   "source": [
    "**Assistant**\n",
    "\n",
    "Next, we will visualize the information for 5 chosen cryptocurrencies that we are interested in:"
   ]
  },
  {
   "cell_type": "code",
   "execution_count": null,
   "id": "JZYDf1NM0Swd",
   "metadata": {
    "id": "JZYDf1NM0Swd"
   },
   "outputs": [],
   "source": [
    "# Virtual Assistant\n",
    "\n",
    "# List of symbols for the top 5 cryptocurrencies, make sure to keep it current\n",
    "symbols = ['BTC/USDT', 'ETH/USDT', 'BNB/USDT', 'ADA/USDT', 'XRP/USDT']\n",
    "\n",
    "# Retrieve and display data for the top 5 cryptocurrencies\n",
    "plt.figure(figsize=(14, 7))\n",
    "\n",
    "for symbol in symbols:\n",
    "    # Get data for the last 24 months, adjust the limit as needed\n",
    "    data = fetch_data(symbol, since=(\n",
    "        datetime.now() - timedelta(days=24*30)).isoformat(), limit=720)\n",
    "    plt.plot(data['timestamp'], data['close'], label=symbol)\n",
    "\n",
    "plt.title('Price Trend of Popular Cryptocurrencies in the Last 24 Months')\n",
    "plt.xlabel('Date')\n",
    "plt.ylabel('Price in USDT')\n",
    "plt.legend()\n",
    "plt.show()"
   ]
  },
  {
   "cell_type": "markdown",
   "id": "Nu-jiocT4QiJ",
   "metadata": {
    "id": "Nu-jiocT4QiJ"
   },
   "source": [
    "**Assistant**\n",
    "\n",
    "### Important Notes:\n",
    "- **Symbol Formatting**: Remember that cryptocurrency symbols follow the format \"BASE/QUOTE\", like \"BTC/USDT\". Make sure to use the correct format for the exchange you are accessing.\n",
    "- **Timeframe and Data Limit**: Adjust the `timeframe` and `limit` values according to the data you require. The `timeframe` can be set to '1d' for daily prices, and the `limit` determines how much historical data you want to retrieve. While a high limit is set here to retrieve data for 24 months, keep in mind that different exchanges may have restrictions on how much historical data can be accessed in a single request.\n",
    "- **Data Availability**: It's important to note that not all cryptocurrencies will have 24 months of historical data available, especially newer ones.\n",
    "- **API Rate Limits**: Be cautious of the rate limits imposed by the exchange's API to avoid being temporarily banned due to excessive requests.\n",
    "- **Restricted Access**: Please be aware that access to Binance may be restricted in certain countries as stated in Binance's Terms of Use. [Binance website](https://www.binance.com/en/legal/list-of-prohibited-countries)."
   ]
  },
  {
   "cell_type": "markdown",
   "id": "RrcHcdvJ4-Zs",
   "metadata": {
    "id": "RrcHcdvJ4-Zs"
   },
   "source": [
    "**User**\n",
    "\n",
    "Could you modify the plot to show the relative price fluctuation instead of absolute prices? This would make it simpler to compare the currencies."
   ]
  },
  {
   "cell_type": "markdown",
   "id": "8WmIFUs55Sp9",
   "metadata": {
    "id": "8WmIFUs55Sp9"
   },
   "source": [
    "**Assistant**\n",
    "\n",
    "For a more effective comparison of the top 5 cryptocurrencies, we can alter the script to display the percentage change in price rather than the actual prices. By doing this, we can analyze the performance of each currency without being influenced by their individual price levels.\n",
    "\n",
    "Here are the steps to adjust the script:\n",
    "\n",
    "1. Determine the percentage change for each currency based on the initial data point's closing price.\n",
    "2. Graph these percentage changes instead of the original prices.\n",
    "\n",
    "Let's update the existing script to incorporate these modifications."
   ]
  },
  {
   "cell_type": "code",
   "execution_count": null,
   "id": "WDOCEp7X6Lxl",
   "metadata": {
    "id": "WDOCEp7X6Lxl"
   },
   "outputs": [],
   "source": [
    "# Virtual Assistant\n",
    "\n",
    "# .. the imports, initialization, and fetch_data method remain unchanged\n",
    "\n",
    "# Obtain and visualize data for the top 5 cryptocurrencies\n",
    "plt.figure(figsize=(14, 7))\n",
    "\n",
    "for symbol in symbols:\n",
    "    # Retrieve data for the previous 24 months, adjust the limit as needed\n",
    "    data = fetch_data(symbol, since=(\n",
    "        datetime.now() - timedelta(days=24*30)).isoformat(), limit=720)\n",
    "\n",
    "    # Compute the percentage change relative to the initial data point\n",
    "    data['percentage_change'] = (\n",
    "        data['close'] - data['close'].iloc[0]) / data['close'].iloc[0] * 100\n",
    "\n",
    "    plt.plot(data['timestamp'], data['percentage_change'], label=symbol)\n",
    "\n",
    "plt.title('Comparative Cryptocurrency Price Changes Over the Last 24 Months')\n",
    "plt.xlabel('Date')\n",
    "plt.ylabel('Percentage Change')\n",
    "plt.legend()\n",
    "plt.show()"
   ]
  },
  {
   "cell_type": "markdown",
   "id": "e-wFEfrI6RBW",
   "metadata": {
    "id": "e-wFEfrI6RBW"
   },
   "source": [
    "**Assistant**\n",
    "\n",
    "### Description of Edits:\n",
    "- **Calculation of Percentage Change**: The percentage change is calculated by subtracting the initial closing price from the current closing price, dividing the result by the initial closing price, and then multiplying by 100 to obtain a percentage.\n",
    "- **Visualization of Percentage Change**: The `plt.plot` function now utilizes `data['percentage_change']` to display the relative price variation over time.\n",
    "\n",
    "This method enables you to visually analyze the performance of various cryptocurrencies on a consistent scale, showcasing their volatility and relative gains or losses over the past 24 months."
   ]
  },
  {
   "cell_type": "markdown",
   "id": "YpL4EyTmwCob",
   "metadata": {
    "id": "YpL4EyTmwCob"
   },
   "source": [
    "**User**\n",
    "\n",
    "Could you please update the labels to display the currency codes as well as their corresponding names?"
   ]
  },
  {
   "cell_type": "markdown",
   "id": "V_uLHETa6c8z",
   "metadata": {
    "id": "V_uLHETa6c8z"
   },
   "source": [
    "**Assistant**\n",
    "\n",
    "In order to display both the currency codes and names on the plot labels, you will need to create a mapping of the currency codes to their full names. We can achieve this by adding a dictionary that associates the codes with the names, and then adjust the labels on the plot accordingly.\n",
    "\n",
    "Keep in mind that the full names of currencies can be lengthy, so you may consider using abbreviations or shorter versions to maintain readability on the plot. Here's a revised approach on how you can accomplish this:"
   ]
  },
  {
   "cell_type": "code",
   "execution_count": null,
   "id": "lT99TiCr7Tte",
   "metadata": {
    "id": "lT99TiCr7Tte"
   },
   "outputs": [],
   "source": [
    "# Virtual Assistant\n",
    "\n",
    "# Imports, initialization, and fetch_data method remain unchanged\n",
    "\n",
    "# Mapping of currency symbols to their corresponding names\n",
    "cryptocurrency_names = {\n",
    "    'BTC/USDT': 'Bitcoin (BTC)',\n",
    "    'ETH/USDT': 'Ethereum (ETH)',\n",
    "    'BNB/USDT': 'Binance Coin (BNB)',\n",
    "    'ADA/USDT': 'Cardano (ADA)',\n",
    "    'XRP/USDT': 'Ripple (XRP)'\n",
    "}\n",
    "\n",
    "# Retrieve and visualize data for the top 5 cryptocurrencies\n",
    "plt.figure(figsize=(14, 7))\n",
    "\n",
    "for symbol, name in cryptocurrency_names.items():\n",
    "    # Obtain data for the previous 24 months, adjust the limit as needed\n",
    "    data = fetch_data(symbol, since=(\n",
    "        datetime.now() - timedelta(days=24*30)).isoformat(), limit=720)\n",
    "\n",
    "    # Compute the percentage change compared to the initial data point\n",
    "    data['percentage_change'] = (\n",
    "        data['close'] - data['close'].iloc[0]) / data['close'].iloc[0] * 100\n",
    "\n",
    "    # Modify label to show both symbol and name\n",
    "    plt.plot(data['timestamp'], data['percentage_change'], label=f\"{name}\")\n",
    "\n",
    "plt.title('Percentage Change in Cryptocurrency Prices Over the Last 24 Months')\n",
    "plt.xlabel('Date')\n",
    "plt.ylabel('Percentage Change')\n",
    "plt.legend()\n",
    "plt.show()"
   ]
  },
  {
   "cell_type": "markdown",
   "id": "OVKL1G3a7Zj5",
   "metadata": {
    "id": "OVKL1G3a7Zj5"
   },
   "source": [
    "**Assistant**\n",
    "\n",
    "### Major Adjustments:\n",
    "- **`symbols_and_names` Directory**: This pairs up the cryptocurrency symbols (e.g., 'BTC/USDT') with a string containing both the code and name of the currency (e.g., 'Bitcoin (BTC)').\n",
    "- **Legend Enhancements in Plotting**: The `label` parameter in the `plt.plot` function now utilizes `f\"{name}\"` to incorporate both the code and the complete name of each cryptocurrency in the legend.\n",
    "\n",
    "This modification enhances the plot's clarity by explicitly indicating which currency each line stands for, not only by its trading symbol but also by its familiar name."
   ]
  },
  {
   "cell_type": "markdown",
   "id": "osH4Cgd67hk7",
   "metadata": {
    "id": "osH4Cgd67hk7"
   },
   "source": [
    "**User**\n",
    "\n",
    "Is it possible for me to use ccxt to determine the top 5 cryptocurrencies?"
   ]
  },
  {
   "cell_type": "markdown",
   "id": "0jjkPx8v7pyc",
   "metadata": {
    "id": "0jjkPx8v7pyc"
   },
   "source": [
    "**Assistant**\n",
    "\n",
    "If you want to determine the top 5 cryptocurrencies using `ccxt`, you typically gather trading volume or price data from a specific exchange and use it as a gauge for popularity or market capitalization. It's important to note that this method may not perfectly align with global market capitalization rankings, but it can give you an indication of the most actively traded or valuable cryptocurrencies on that particular exchange.\n",
    "\n",
    "Here's a theoretical method to identify popular cryptocurrencies based on trading volume from an exchange:\n",
    "\n",
    "1. **Retrieve tickers for all markets**: Utilize the `fetch_tickers()` method to obtain the latest ticker information for all symbols. This method supplies the `quoteVolume` for the previous 24 hours, which can be used to assess activity.\n",
    "2. **Organize markets by `quoteVolume`**: Once you have fetched the tickers, arrange them by `quoteVolume` to identify the most traded markets.\n",
    "3. **Choose top markets**: From the organized list, choose the top 5 markets based on their trading volume.\n",
    "\n",
    "Here's an example of how you could execute this process:"
   ]
  },
  {
   "cell_type": "code",
   "execution_count": null,
   "id": "ldFWs_Yc8sH8",
   "metadata": {
    "id": "ldFWs_Yc8sH8"
   },
   "outputs": [],
   "source": [
    "# Virtual Assistant\n",
    "\n",
    "import ccxt\n",
    "\n",
    "# Creating an instance of the Binance exchange\n",
    "exchange = ccxt.binance()\n",
    "\n",
    "# Checking if the exchange supports fetching tickers\n",
    "if exchange.has['fetchTickers']:\n",
    "    \n",
    "    # Retrieving and organizing tickers by quoteVolume in descending order\n",
    "    tickers = exchange.fetch_tickers()\n",
    "    sorted_tickers = sorted(tickers.items(), key=lambda x: x[1]['quoteVolume'] if 'quoteVolume' in x[1] else 0, reverse=True)\n",
    "\n",
    "    # Selecting the top 5 tickers\n",
    "    top_5_tickers = sorted_tickers[:5]\n",
    "\n",
    "    # Displaying the top 5 cryptocurrencies by trading volume on Binance\n",
    "    print(\"Top 5 Cryptocurrencies by Trading Volume on Binance:\")\n",
    "    for symbol, ticker in top_5_tickers:\n",
    "        print(f\"{symbol} - Volume: {ticker['quoteVolume']}\")\n",
    "else:\n",
    "    print(\"Sorry, this exchange does not support fetching all tickers simultaneously.\")"
   ]
  },
  {
   "cell_type": "markdown",
   "id": "p3qpvl6A8t8j",
   "metadata": {
    "id": "p3qpvl6A8t8j"
   },
   "source": [
    "**Assistant**\n",
    "\n",
    "### Key Points to Keep in Mind:\n",
    "\n",
    "- **Exchange Compatibility**: It's crucial to note that not all exchanges support fetching all tickers simultaneously. Make sure to verify if your chosen exchange allows for this feature (`exchange.has['fetchTickers']`).\n",
    "- **API Usage Limits**: Retrieving a large amount of data in one go can strain the API and potentially trigger rate limits. Always be cautious of the exchange's policies on API usage.\n",
    "- **Choosing Markets**: This approach prioritizes trading volume as the major factor for popularity assessment. While common, it doesn't account for factors like market capitalization or liquidity spread across different exchanges.\n",
    "\n",
    "Remember, the `quoteVolume` indicates the trading volume in the quote currency within the previous 24 hours, serving as a valuable metric for evaluating the trading activity of a specific currency during that timeframe."
   ]
  }
 ],
 "metadata": {
  "colab": {
   "provenance": []
  },
  "kernelspec": {
   "display_name": "Python 3",
   "name": "python3"
  },
  "language_info": {
   "name": "python"
  }
 },
 "nbformat": 4,
 "nbformat_minor": 5
}
